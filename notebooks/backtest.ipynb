{
 "cells": [
  {
   "cell_type": "code",
   "execution_count": 1,
   "metadata": {},
   "outputs": [],
   "source": [
    "import sys\n",
    "sys.path.insert(1, '/Users/mac/Desktop/PycharmProjects/TAADL/src')\n",
    "sys.path.insert(2, '/Users/mac/Desktop/PycharmProjects/TAADL/models')"
   ]
  },
  {
   "cell_type": "code",
   "execution_count": 2,
   "metadata": {},
   "outputs": [],
   "source": [
    "import logging\n",
    "import torch\n",
    "import numpy as np\n",
    "import pandas as pd\n",
    "import torch.nn as nn\n",
    "import matplotlib.pyplot as plt\n",
    "\n",
    "from config import DATA_PATH\n",
    "from typing import Tuple\n",
    "from network import GPCopulaNet\n",
    "from torch.distributions import MultivariateNormal\n",
    "from utils import train_test_split, loss_GLL, transform, inv_transform_3D\n",
    "from loader import TrainDataset"
   ]
  },
  {
   "cell_type": "markdown",
   "metadata": {},
   "source": [
    "# Data Preprocessing"
   ]
  },
  {
   "cell_type": "code",
   "execution_count": 5,
   "metadata": {},
   "outputs": [],
   "source": [
    "# load and preprocess the data\n",
    "feature = pd.read_csv(DATA_PATH+'log_return.csv', index_col='Date')\n",
    "df_tr, df_te = train_test_split(feature)\n",
    "\n",
    "labels = df_tr.shift(-1)\n",
    "df_tr, labels = df_tr.iloc[:-1], labels.iloc[:-1]\n",
    "\n",
    "inputs, labels = torch.Tensor(df_tr.values), torch.Tensor(labels.values)\n",
    "indice = torch.randperm(7)[:3]\n",
    "\n",
    "inputs_x, cdf = transform(inputs[:500])"
   ]
  },
  {
   "cell_type": "code",
   "execution_count": 6,
   "metadata": {},
   "outputs": [],
   "source": [
    "net = GPCopulaNet(input_dim=1, hidden_dim=15, embed_dim=6, num_layers=2,\n",
    "                num_assets=7, seq_length=24, pred_length=4, batch_size=1, rank_size=2)\n",
    "\n",
    "net.init_weight()\n",
    "optimizer = torch.optim.Adam(params=net.parameters(), lr=1e-3)"
   ]
  },
  {
   "cell_type": "code",
   "execution_count": 7,
   "metadata": {},
   "outputs": [
    {
     "data": {
      "text/plain": [
       "(tensor(84.1235, grad_fn=<NegBackward0>),\n",
       " torch.Size([24, 3, 1]),\n",
       " torch.Size([24, 3, 3]))"
      ]
     },
     "execution_count": 7,
     "metadata": {},
     "output_type": "execute_result"
    }
   ],
   "source": [
    "mu,cov = net(inputs[:24], indice)\n",
    "loss = loss_GLL(inputs_x[:24][:,indice], mu, cov)\n",
    "\n",
    "optimizer.zero_grad()\n",
    "loss.backward()\n",
    "optimizer.step()\n",
    "\n",
    "loss, mu.size(), cov.size()"
   ]
  },
  {
   "cell_type": "code",
   "execution_count": 14,
   "metadata": {},
   "outputs": [],
   "source": [
    "x_hat = net.predict(inputs[24:25],20)\n",
    "z_hat = inv_transform_3D(x_hat, cdf)"
   ]
  },
  {
   "cell_type": "code",
   "execution_count": 20,
   "metadata": {},
   "outputs": [],
   "source": [
    "z_mean, z_std = z_hat.mean(axis=0), z_hat.std(axis=0)"
   ]
  },
  {
   "cell_type": "code",
   "execution_count": 25,
   "metadata": {},
   "outputs": [
    {
     "data": {
      "text/plain": [
       "tensor([[ 0.0197,  0.0266, -0.0013, -0.0050, -0.0069, -0.0057,  0.0138],\n",
       "        [ 0.0029,  0.0168, -0.0033, -0.0011,  0.0135,  0.0097,  0.0038],\n",
       "        [ 0.0094,  0.0141,  0.0003, -0.0041,  0.0240,  0.0096,  0.0021],\n",
       "        [ 0.0189,  0.0039, -0.0054, -0.0065, -0.0483,  0.0176, -0.0064]])"
      ]
     },
     "execution_count": 25,
     "metadata": {},
     "output_type": "execute_result"
    }
   ],
   "source": [
    "inputs[24:28]"
   ]
  },
  {
   "cell_type": "code",
   "execution_count": 21,
   "metadata": {},
   "outputs": [
    {
     "data": {
      "text/plain": [
       "tensor([[ 0.0036,  0.0075,  0.0017,  0.0017, -0.0068,  0.0031,  0.0018],\n",
       "        [ 0.0102,  0.0151,  0.0021, -0.0013,  0.0033,  0.0128, -0.0023],\n",
       "        [-0.0008,  0.0107,  0.0021, -0.0016, -0.0049,  0.0030,  0.0050],\n",
       "        [ 0.0028,  0.0074,  0.0013,  0.0005,  0.0116, -0.0076,  0.0010]])"
      ]
     },
     "execution_count": 21,
     "metadata": {},
     "output_type": "execute_result"
    }
   ],
   "source": [
    "\n",
    "z_mean"
   ]
  },
  {
   "cell_type": "code",
   "execution_count": 22,
   "metadata": {},
   "outputs": [
    {
     "data": {
      "text/plain": [
       "tensor([[0.0256, 0.0306, 0.0032, 0.0061, 0.0283, 0.0268, 0.0154],\n",
       "        [0.0262, 0.0366, 0.0050, 0.0067, 0.0363, 0.0243, 0.0256],\n",
       "        [0.0280, 0.0234, 0.0024, 0.0081, 0.0265, 0.0216, 0.0187],\n",
       "        [0.0184, 0.0404, 0.0047, 0.0052, 0.0204, 0.0319, 0.0154]])"
      ]
     },
     "execution_count": 22,
     "metadata": {},
     "output_type": "execute_result"
    }
   ],
   "source": [
    "z_std"
   ]
  },
  {
   "cell_type": "code",
   "execution_count": null,
   "metadata": {},
   "outputs": [],
   "source": []
  }
 ],
 "metadata": {
  "interpreter": {
   "hash": "7e1998ff7f8aa20ada591c520b972326324e5ea05489af9e422744c7c09f6dad"
  },
  "kernelspec": {
   "display_name": "Python 3.10.1 64-bit",
   "language": "python",
   "name": "python3"
  },
  "language_info": {
   "codemirror_mode": {
    "name": "ipython",
    "version": 3
   },
   "file_extension": ".py",
   "mimetype": "text/x-python",
   "name": "python",
   "nbconvert_exporter": "python",
   "pygments_lexer": "ipython3",
   "version": "3.9.7"
  },
  "orig_nbformat": 4
 },
 "nbformat": 4,
 "nbformat_minor": 2
}
