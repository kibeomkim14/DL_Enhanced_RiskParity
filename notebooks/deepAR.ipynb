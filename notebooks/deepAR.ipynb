{
 "cells": [
  {
   "cell_type": "code",
   "execution_count": 17,
   "metadata": {},
   "outputs": [],
   "source": [
    "import sys\n",
    "sys.path.insert(1, '/Users/mac/Desktop/PycharmProjects/TAADL/src')\n",
    "sys.path.insert(2, '/Users/mac/Desktop/PycharmProjects/TAADL/models')\n",
    "\n",
    "import torch\n",
    "import torch.nn as nn\n",
    "import numpy as np\n",
    "import pandas as pd\n",
    "import json\n",
    "\n",
    "from torch import optim\n",
    "from param_search import train\n",
    "from network import GPCopulaRNN\n",
    "from config import DATA_PATH, e_dict\n",
    "from utils import transform, inv_transform"
   ]
  },
  {
   "cell_type": "code",
   "execution_count": 2,
   "metadata": {},
   "outputs": [],
   "source": [
    "#TODO add mean and covariance to existing RP strategy and do the plotting"
   ]
  },
  {
   "cell_type": "code",
   "execution_count": 18,
   "metadata": {},
   "outputs": [],
   "source": [
    "params = torch.load('/Users/mac/Desktop/PycharmProjects/TAADL/models/GaussCopula.pt')"
   ]
  },
  {
   "cell_type": "code",
   "execution_count": 19,
   "metadata": {},
   "outputs": [],
   "source": [
    "# import feature \n",
    "prices = pd.read_csv(DATA_PATH+'/prices.csv', index_col='Date')\n",
    "\n",
    "# preprocess weekly data\n",
    "prices.index = pd.to_datetime(prices.index)\n",
    "prices = prices.resample('M').last()\n",
    "lret_m = np.log(prices/prices.shift(1)).fillna(0.0) # weekly return\n",
    "\n",
    "\n",
    "# convert the data to torch tensor\n",
    "split_idx = int(lret_m.shape[0] * 0.7)\n",
    "Z_tr, Z_te = torch.Tensor(lret_m.iloc[:split_idx].values), torch.Tensor(lret_m.iloc[split_idx:].values)\n",
    "X_tr, cdf = transform(Z_tr)\n",
    "X_te, _   = transform(Z_te, cdf)\n"
   ]
  },
  {
   "cell_type": "code",
   "execution_count": 23,
   "metadata": {},
   "outputs": [
    {
     "data": {
      "text/plain": [
       "<All keys matched successfully>"
      ]
     },
     "execution_count": 23,
     "metadata": {},
     "output_type": "execute_result"
    }
   ],
   "source": [
    "num_samples = 20\n",
    "num_epochs = 250\n",
    "\n",
    "# load parameters for model and optimizer\n",
    "model = GPCopulaRNN(input_size=1, hidden_size=4, num_layers=2, rank_size=5, \n",
    "                        batch_size=3, num_asset=7, dropout=0.05, features=e_dict)\n",
    "model.load_state_dict(params['net_params'])"
   ]
  },
  {
   "cell_type": "code",
   "execution_count": 26,
   "metadata": {},
   "outputs": [],
   "source": []
  },
  {
   "cell_type": "code",
   "execution_count": 27,
   "metadata": {},
   "outputs": [
    {
     "name": "stdout",
     "output_type": "stream",
     "text": [
      "Prediction MSE : tensor([0.0116])\n"
     ]
    },
    {
     "data": {
      "text/plain": [
       "tensor([0.0116])"
      ]
     },
     "execution_count": 27,
     "metadata": {},
     "output_type": "execute_result"
    }
   ],
   "source": [
    "test(model, Z_te, cdf)"
   ]
  },
  {
   "cell_type": "code",
   "execution_count": 29,
   "metadata": {},
   "outputs": [
    {
     "data": {
      "text/plain": [
       "dict"
      ]
     },
     "execution_count": 29,
     "metadata": {},
     "output_type": "execute_result"
    }
   ],
   "source": [
    "type(cdf)"
   ]
  },
  {
   "cell_type": "code",
   "execution_count": null,
   "metadata": {},
   "outputs": [],
   "source": []
  }
 ],
 "metadata": {
  "interpreter": {
   "hash": "0fcdd98ffdc43e19459281bdd6dd2d99dc416cd8bc0df76bf27c994662bebc1a"
  },
  "kernelspec": {
   "display_name": "Python 3.9.7 ('venv': venv)",
   "language": "python",
   "name": "python3"
  },
  "language_info": {
   "codemirror_mode": {
    "name": "ipython",
    "version": 3
   },
   "file_extension": ".py",
   "mimetype": "text/x-python",
   "name": "python",
   "nbconvert_exporter": "python",
   "pygments_lexer": "ipython3",
   "version": "3.9.7"
  },
  "orig_nbformat": 4
 },
 "nbformat": 4,
 "nbformat_minor": 2
}
