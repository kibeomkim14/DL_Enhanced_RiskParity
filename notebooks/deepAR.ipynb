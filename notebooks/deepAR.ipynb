{
 "cells": [
  {
   "cell_type": "code",
   "execution_count": 10,
   "metadata": {},
   "outputs": [],
   "source": [
    "import sys\n",
    "sys.path.insert(1, '/Users/mac/Desktop/PycharmProjects/TAADL/src')\n",
    "sys.path.insert(2, '/Users/mac/Desktop/PycharmProjects/TAADL/models')\n",
    "\n",
    "import torch\n",
    "import torch.nn as nn\n",
    "import numpy as np\n",
    "import pandas as pd\n",
    "import json\n",
    "\n",
    "from torch import optim\n",
    "from param_search import train\n",
    "from network import GPCopulaRNN\n",
    "from config import DATA_PATH, e_dict\n",
    "from utils import transform, inv_transform"
   ]
  },
  {
   "cell_type": "code",
   "execution_count": 3,
   "metadata": {},
   "outputs": [],
   "source": [
    "#TODO add mean and covariance to existing RP strategy and do the plotting"
   ]
  },
  {
   "cell_type": "code",
   "execution_count": 4,
   "metadata": {},
   "outputs": [],
   "source": [
    "with open('/Users/mac/Desktop/PycharmProjects/TAADL/models/hyperparams.json', 'r') as file:\n",
    "    hyp_params = json.load(file)"
   ]
  },
  {
   "cell_type": "code",
   "execution_count": 5,
   "metadata": {},
   "outputs": [],
   "source": [
    "# import feature \n",
    "prices = pd.read_csv(DATA_PATH+'/prices.csv', index_col='Date')\n",
    "\n",
    "# preprocess weekly data\n",
    "prices.index = pd.to_datetime(prices.index)\n",
    "prices = prices.resample('M').last()\n",
    "lret_m = np.log(prices/prices.shift(1)).fillna(0.0) # weekly return\n",
    "\n",
    "\n",
    "# convert the data to torch tensor\n",
    "split_idx = int(lret_m.shape[0] * 0.7)\n",
    "Z_tr, Z_te = torch.Tensor(lret_m.iloc[:split_idx].values), torch.Tensor(lret_m.iloc[split_idx:].values)\n"
   ]
  },
  {
   "cell_type": "code",
   "execution_count": 8,
   "metadata": {},
   "outputs": [],
   "source": [
    "num_samples = 20\n",
    "num_epochs = 250\n",
    "\n",
    "# load parameters for model and optimizer\n",
    "model = GPCopulaRNN(input_size=1, hidden_size=4, num_layers=2, rank_size=4, \n",
    "                        batch_size=3, num_asset=7, dropout=0.05, features=e_dict)\n",
    "\n",
    "optimizer = optim.Adam(params=model.parameters(), lr=hyp_params['learning rate'], weight_decay=hyp_params['weight decay'])\n",
    "#model.load_state_dict(torch.load('/Users/mac/Desktop/PycharmProjects/TAADL/models/GaussCopula.json')['networks_params'])"
   ]
  },
  {
   "cell_type": "code",
   "execution_count": 9,
   "metadata": {},
   "outputs": [
    {
     "name": "stdout",
     "output_type": "stream",
     "text": [
      "Epoch 1\n",
      "Gaussian LL Loss : 41.22999954223633\n",
      "Validation MSE   : 0.014919459819793701 \n",
      "\n",
      "Epoch 51\n",
      "Gaussian LL Loss : -36.619998931884766\n",
      "Validation MSE   : 0.01605803146958351 \n",
      "\n",
      "Epoch 101\n",
      "Gaussian LL Loss : -22.25\n",
      "Validation MSE   : 0.01620236411690712 \n",
      "\n",
      "Epoch 151\n",
      "Gaussian LL Loss : -51.709999084472656\n",
      "Validation MSE   : 0.013248706236481667 \n",
      "\n",
      "Epoch 201\n",
      "Gaussian LL Loss : -35.0099983215332\n",
      "Validation MSE   : 0.013930179178714752 \n",
      "\n"
     ]
    },
    {
     "data": {
      "text/plain": [
       "tensor(0.0157)"
      ]
     },
     "execution_count": 9,
     "metadata": {},
     "output_type": "execute_result"
    }
   ],
   "source": [
    "# re-train the model\n",
    "train(model, Z_tr, optimizer, num_samples, num_epochs, save=False)"
   ]
  },
  {
   "cell_type": "code",
   "execution_count": null,
   "metadata": {},
   "outputs": [],
   "source": [
    "\n",
    "def test(model, data, optimizer, num_samples, num_epochs, cdf):\n",
    "    model.init_weight()\n",
    "\n",
    "    # transform \n",
    "    X_te, _ = transform(data, cdf)\n",
    "    sampler = train_idx_sampler(tr_idx=data.size(0), context_len=12, \n",
    "                                    prediction_len=1, num_samples=num_samples)\n",
    "        \n",
    "    for epoch in range(num_epochs):\n",
    "        # randomly sample sequence index for training\n",
    "        losses = []\n",
    "        losses_valid = torch.Tensor([0.0])\n",
    "        for tr_idx, te_idx in sampler: # for each sequence sample\n",
    "            optimizer.zero_grad()\n",
    "\n",
    "            # run the model\n",
    "            mu_t, cov_t, batch_idx = model(data[tr_idx], pred=True)\n",
    "            x = X_tr[tr_idx][:,batch_idx]\n",
    "\n",
    "            \n",
    "            # append loss of each batch\n",
    "            losses.append(loss.detach())\n",
    "\n",
    "            # prediction step\n",
    "            mu_pred, _, _ = model(data[te_idx], pred=True)\n",
    "            Z_tr_hat = inv_transform(mu_pred.detach(), cdfs)\n",
    "            \n",
    "            # calculate validation loss\n",
    "            losses_valid = losses_valid + (Z_tr_hat[0]- data[te_idx]).pow(2).sum()\n",
    "\n",
    "        losses_valid = losses_valid[0]/num_samples\n",
    "        if epoch % 50 == 0:\n",
    "            print(f'Epoch {epoch+1}') \n",
    "            print(f'Gaussian LL Loss : {np.round(np.mean(losses),2)}')\n",
    "            print(f'Validation MSE   : {losses_valid} \\n')\n",
    "    if save:\n",
    "        torch.save({'networks_params':model.state_dict(), 'optimizer_dict':optimizer.state_dict()}, 'models/GaussCopula.json')\n",
    "    \n",
    "    return losses_valid"
   ]
  }
 ],
 "metadata": {
  "interpreter": {
   "hash": "0fcdd98ffdc43e19459281bdd6dd2d99dc416cd8bc0df76bf27c994662bebc1a"
  },
  "kernelspec": {
   "display_name": "Python 3.9.7 ('venv': venv)",
   "language": "python",
   "name": "python3"
  },
  "language_info": {
   "codemirror_mode": {
    "name": "ipython",
    "version": 3
   },
   "file_extension": ".py",
   "mimetype": "text/x-python",
   "name": "python",
   "nbconvert_exporter": "python",
   "pygments_lexer": "ipython3",
   "version": "3.9.7"
  },
  "orig_nbformat": 4
 },
 "nbformat": 4,
 "nbformat_minor": 2
}
