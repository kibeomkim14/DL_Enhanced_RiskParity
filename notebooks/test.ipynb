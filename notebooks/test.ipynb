{
 "cells": [
  {
   "cell_type": "code",
   "execution_count": 107,
   "metadata": {},
   "outputs": [],
   "source": [
    "import sys\n",
    "sys.path.insert(1, '/Users/mac/Desktop/PycharmProjects/TAADL/src')\n",
    "sys.path.insert(2, '/Users/mac/Desktop/PycharmProjects/TAADL/models')"
   ]
  },
  {
   "cell_type": "code",
   "execution_count": 76,
   "metadata": {},
   "outputs": [],
   "source": [
    "from utils import train_test_split2, generate_portfolio_inputs\n",
    "from network import MLP, PortfolioLayer\n",
    "from config import DATA_PATH, PARA_PATH, PRICE_PATH\n",
    "from sklearn.model_selection import TimeSeriesSplit\n",
    "from torch.utils.data import Dataset, DataLoader\n",
    "\n",
    "import numpy as np\n",
    "import pandas as pd\n",
    "import torch\n",
    "import torch.nn as nn\n",
    "import torch.optim as optim\n",
    "import optuna\n",
    "from optuna import trial"
   ]
  },
  {
   "cell_type": "code",
   "execution_count": 3,
   "metadata": {},
   "outputs": [],
   "source": [
    "# import data and trained network parameters\n",
    "features = pd.read_csv(DATA_PATH , index_col='Date')\n",
    "prices   = pd.read_csv(PRICE_PATH, index_col='Date')\n",
    "net_params = torch.load(PARA_PATH)['net_state_dict']"
   ]
  },
  {
   "cell_type": "code",
   "execution_count": 20,
   "metadata": {},
   "outputs": [],
   "source": [
    "X, y = train_test_split2(features, test=False)\n",
    "pf_feature = generate_portfolio_inputs(X, y)\n",
    "prices = prices.loc[pf_feature.index]"
   ]
  },
  {
   "cell_type": "code",
   "execution_count": 23,
   "metadata": {},
   "outputs": [
    {
     "data": {
      "text/html": [
       "<div>\n",
       "<style scoped>\n",
       "    .dataframe tbody tr th:only-of-type {\n",
       "        vertical-align: middle;\n",
       "    }\n",
       "\n",
       "    .dataframe tbody tr th {\n",
       "        vertical-align: top;\n",
       "    }\n",
       "\n",
       "    .dataframe thead th {\n",
       "        text-align: right;\n",
       "    }\n",
       "</style>\n",
       "<table border=\"1\" class=\"dataframe\">\n",
       "  <thead>\n",
       "    <tr style=\"text-align: right;\">\n",
       "      <th></th>\n",
       "      <th>VTI</th>\n",
       "      <th>BNDX</th>\n",
       "      <th>VNQ</th>\n",
       "      <th>VWOB</th>\n",
       "      <th>VGK</th>\n",
       "      <th>VWO</th>\n",
       "      <th>BND</th>\n",
       "      <th>VNQI</th>\n",
       "      <th>CASH</th>\n",
       "    </tr>\n",
       "    <tr>\n",
       "      <th>Date</th>\n",
       "      <th></th>\n",
       "      <th></th>\n",
       "      <th></th>\n",
       "      <th></th>\n",
       "      <th></th>\n",
       "      <th></th>\n",
       "      <th></th>\n",
       "      <th></th>\n",
       "      <th></th>\n",
       "    </tr>\n",
       "  </thead>\n",
       "  <tbody>\n",
       "    <tr>\n",
       "      <th>2007-01-18</th>\n",
       "      <td>1.000000</td>\n",
       "      <td>1.000000</td>\n",
       "      <td>1.000000</td>\n",
       "      <td>1.000000</td>\n",
       "      <td>1.000000</td>\n",
       "      <td>1.000000</td>\n",
       "      <td>1.000000</td>\n",
       "      <td>1.000000</td>\n",
       "      <td>1.0</td>\n",
       "    </tr>\n",
       "    <tr>\n",
       "      <th>2007-01-19</th>\n",
       "      <td>1.003893</td>\n",
       "      <td>1.000209</td>\n",
       "      <td>1.009938</td>\n",
       "      <td>1.003459</td>\n",
       "      <td>1.010844</td>\n",
       "      <td>1.019229</td>\n",
       "      <td>0.999990</td>\n",
       "      <td>1.011732</td>\n",
       "      <td>1.0</td>\n",
       "    </tr>\n",
       "    <tr>\n",
       "      <th>2007-01-22</th>\n",
       "      <td>0.996036</td>\n",
       "      <td>0.999960</td>\n",
       "      <td>0.991559</td>\n",
       "      <td>0.998836</td>\n",
       "      <td>0.995032</td>\n",
       "      <td>0.998956</td>\n",
       "      <td>1.000104</td>\n",
       "      <td>0.996719</td>\n",
       "      <td>1.0</td>\n",
       "    </tr>\n",
       "    <tr>\n",
       "      <th>2007-01-23</th>\n",
       "      <td>1.002833</td>\n",
       "      <td>1.000151</td>\n",
       "      <td>1.004726</td>\n",
       "      <td>1.002497</td>\n",
       "      <td>1.006279</td>\n",
       "      <td>1.017090</td>\n",
       "      <td>0.999998</td>\n",
       "      <td>1.008585</td>\n",
       "      <td>1.0</td>\n",
       "    </tr>\n",
       "    <tr>\n",
       "      <th>2007-01-24</th>\n",
       "      <td>1.008802</td>\n",
       "      <td>1.000188</td>\n",
       "      <td>1.012943</td>\n",
       "      <td>1.002400</td>\n",
       "      <td>1.007830</td>\n",
       "      <td>1.008946</td>\n",
       "      <td>0.999868</td>\n",
       "      <td>1.007328</td>\n",
       "      <td>1.0</td>\n",
       "    </tr>\n",
       "    <tr>\n",
       "      <th>...</th>\n",
       "      <td>...</td>\n",
       "      <td>...</td>\n",
       "      <td>...</td>\n",
       "      <td>...</td>\n",
       "      <td>...</td>\n",
       "      <td>...</td>\n",
       "      <td>...</td>\n",
       "      <td>...</td>\n",
       "      <td>...</td>\n",
       "    </tr>\n",
       "    <tr>\n",
       "      <th>2021-08-12</th>\n",
       "      <td>1.002786</td>\n",
       "      <td>1.000173</td>\n",
       "      <td>1.002168</td>\n",
       "      <td>1.002268</td>\n",
       "      <td>0.999714</td>\n",
       "      <td>0.993418</td>\n",
       "      <td>1.000116</td>\n",
       "      <td>0.996284</td>\n",
       "      <td>1.0</td>\n",
       "    </tr>\n",
       "    <tr>\n",
       "      <th>2021-08-13</th>\n",
       "      <td>1.000565</td>\n",
       "      <td>1.000518</td>\n",
       "      <td>1.005448</td>\n",
       "      <td>1.004271</td>\n",
       "      <td>1.007559</td>\n",
       "      <td>0.998056</td>\n",
       "      <td>1.003945</td>\n",
       "      <td>1.005232</td>\n",
       "      <td>1.0</td>\n",
       "    </tr>\n",
       "    <tr>\n",
       "      <th>2021-08-16</th>\n",
       "      <td>1.000391</td>\n",
       "      <td>1.000000</td>\n",
       "      <td>0.998782</td>\n",
       "      <td>0.999624</td>\n",
       "      <td>0.994586</td>\n",
       "      <td>0.991990</td>\n",
       "      <td>1.000926</td>\n",
       "      <td>1.000337</td>\n",
       "      <td>1.0</td>\n",
       "    </tr>\n",
       "    <tr>\n",
       "      <th>2021-08-17</th>\n",
       "      <td>0.992545</td>\n",
       "      <td>1.000345</td>\n",
       "      <td>0.998968</td>\n",
       "      <td>0.999122</td>\n",
       "      <td>0.991968</td>\n",
       "      <td>0.981789</td>\n",
       "      <td>0.998958</td>\n",
       "      <td>0.987641</td>\n",
       "      <td>1.0</td>\n",
       "    </tr>\n",
       "    <tr>\n",
       "      <th>2021-08-18</th>\n",
       "      <td>0.989973</td>\n",
       "      <td>0.999827</td>\n",
       "      <td>0.990852</td>\n",
       "      <td>0.999372</td>\n",
       "      <td>0.997260</td>\n",
       "      <td>1.001198</td>\n",
       "      <td>0.999768</td>\n",
       "      <td>1.003232</td>\n",
       "      <td>1.0</td>\n",
       "    </tr>\n",
       "  </tbody>\n",
       "</table>\n",
       "<p>3688 rows × 9 columns</p>\n",
       "</div>"
      ],
      "text/plain": [
       "                 VTI      BNDX       VNQ      VWOB       VGK       VWO  \\\n",
       "Date                                                                     \n",
       "2007-01-18  1.000000  1.000000  1.000000  1.000000  1.000000  1.000000   \n",
       "2007-01-19  1.003893  1.000209  1.009938  1.003459  1.010844  1.019229   \n",
       "2007-01-22  0.996036  0.999960  0.991559  0.998836  0.995032  0.998956   \n",
       "2007-01-23  1.002833  1.000151  1.004726  1.002497  1.006279  1.017090   \n",
       "2007-01-24  1.008802  1.000188  1.012943  1.002400  1.007830  1.008946   \n",
       "...              ...       ...       ...       ...       ...       ...   \n",
       "2021-08-12  1.002786  1.000173  1.002168  1.002268  0.999714  0.993418   \n",
       "2021-08-13  1.000565  1.000518  1.005448  1.004271  1.007559  0.998056   \n",
       "2021-08-16  1.000391  1.000000  0.998782  0.999624  0.994586  0.991990   \n",
       "2021-08-17  0.992545  1.000345  0.998968  0.999122  0.991968  0.981789   \n",
       "2021-08-18  0.989973  0.999827  0.990852  0.999372  0.997260  1.001198   \n",
       "\n",
       "                 BND      VNQI  CASH  \n",
       "Date                                  \n",
       "2007-01-18  1.000000  1.000000   1.0  \n",
       "2007-01-19  0.999990  1.011732   1.0  \n",
       "2007-01-22  1.000104  0.996719   1.0  \n",
       "2007-01-23  0.999998  1.008585   1.0  \n",
       "2007-01-24  0.999868  1.007328   1.0  \n",
       "...              ...       ...   ...  \n",
       "2021-08-12  1.000116  0.996284   1.0  \n",
       "2021-08-13  1.003945  1.005232   1.0  \n",
       "2021-08-16  1.000926  1.000337   1.0  \n",
       "2021-08-17  0.998958  0.987641   1.0  \n",
       "2021-08-18  0.999768  1.003232   1.0  \n",
       "\n",
       "[3688 rows x 9 columns]"
      ]
     },
     "execution_count": 23,
     "metadata": {},
     "output_type": "execute_result"
    }
   ],
   "source": [
    "# calculate log return\n",
    "lret = np.log(prices/prices.shift()).fillna(0).add(1)\n",
    "lret['CASH'] = 1.0"
   ]
  },
  {
   "cell_type": "code",
   "execution_count": 88,
   "metadata": {},
   "outputs": [],
   "source": [
    "def objective(trial: optuna.Trial) -> float:\n",
    "    # set up the parameter using optuna\n",
    "    LEARNING_RATE = trial.suggest_float(\"learning rate\",1e-6,5e-3,log=True)\n",
    "    WEIGHT_DECAY  = trial.suggest_float(\"weight decay\" ,1e-6,3e-2,log=True)\n",
    "    NUM_EPOCHS = 50\n",
    "    \n",
    "    # define dataset\n",
    "    X = pf_feature.loc[:'2016-02-22'].values\n",
    "    y = lret.loc['2007-01-19':'2016-02-23'].values\n",
    "    assert X.shape[0] == y.shape[0], 'dataset not equal'\n",
    "\n",
    "    # define a portfolio layer\n",
    "    cv  = TimeSeriesSplit(n_splits=10,test_size=150)\n",
    "    portfolio = PortfolioLayer(asset_num=8, error_adjusted=True)\n",
    "    optimizer = optim.Adam(params=portfolio.parameters(), lr=LEARNING_RATE, weight_decay=WEIGHT_DECAY)\n",
    "\n",
    "    val_losses = []\n",
    "    for fold, (train_idx, val_idx) in enumerate(cv.split(X)):\n",
    "        X_tr, y_tr = torch.Tensor(X[train_idx]), torch.Tensor(y[train_idx])\n",
    "        X_vl, y_vl = torch.Tensor(X[val_idx]), torch.Tensor(y[val_idx])\n",
    "\n",
    "        dataset = InvDataset(X_tr,y_tr)\n",
    "        loader = DataLoader(dataset, batch_size=60, shuffle=False)\n",
    "        \n",
    "        for epoch in range(NUM_EPOCHS):\n",
    "            # training\n",
    "            for x_batch, y_batch in loader:    \n",
    "                optimizer.zero_grad()\n",
    "                weights = portfolio(x_batch)\n",
    "                loss = sharpe_ratio(weights, y_batch)\n",
    "                loss.backward()\n",
    "                optimizer.step()\n",
    "            \n",
    "            # at the end of the training, evaluate \n",
    "            if epoch + 1 == NUM_EPOCHS:\n",
    "                with torch.set_grad_enabled(False):\n",
    "                    weights = portfolio(X_vl)\n",
    "                    val_loss = -sharpe_ratio(weights, y_vl)\n",
    "                    val_losses.append(val_loss.detach().item())\n",
    "                    print(f'Fold: {fold+1}, Validation Sharpe: {val_loss.detach()}')\n",
    "\n",
    "    return np.mean(val_losses)"
   ]
  },
  {
   "cell_type": "code",
   "execution_count": 89,
   "metadata": {},
   "outputs": [
    {
     "name": "stderr",
     "output_type": "stream",
     "text": [
      "\u001b[32m[I 2022-02-27 00:37:58,159]\u001b[0m A new study created in memory with name: no-name-6ad72e49-f9b7-4858-b570-b790b154ad2b\u001b[0m\n"
     ]
    },
    {
     "name": "stdout",
     "output_type": "stream",
     "text": [
      "Fold: 1, Validation Sharpe: 0.7874948978424072\n",
      "Fold: 2, Validation Sharpe: 0.718956708908081\n",
      "Fold: 3, Validation Sharpe: -0.5849557518959045\n",
      "Fold: 4, Validation Sharpe: 1.026322841644287\n",
      "Fold: 5, Validation Sharpe: 1.271044373512268\n",
      "Fold: 6, Validation Sharpe: -1.0473666191101074\n",
      "Fold: 7, Validation Sharpe: 1.9474117755889893\n",
      "Fold: 8, Validation Sharpe: 2.478426694869995\n",
      "Fold: 9, Validation Sharpe: -0.13503018021583557\n"
     ]
    },
    {
     "name": "stderr",
     "output_type": "stream",
     "text": [
      "\u001b[32m[I 2022-02-27 00:38:08,402]\u001b[0m Trial 0 finished with value: 0.6848051875829697 and parameters: {'learning rate': 0.00059937733700927, 'weight decay': 0.00017384045942619837}. Best is trial 0 with value: 0.6848051875829697.\u001b[0m\n"
     ]
    },
    {
     "name": "stdout",
     "output_type": "stream",
     "text": [
      "Fold: 10, Validation Sharpe: 0.38574713468551636\n",
      "Fold: 1, Validation Sharpe: 2.8908588886260986\n",
      "Fold: 2, Validation Sharpe: 0.6254957914352417\n",
      "Fold: 3, Validation Sharpe: 2.123528003692627\n",
      "Fold: 4, Validation Sharpe: 2.571291208267212\n",
      "Fold: 5, Validation Sharpe: -0.24956604838371277\n",
      "Fold: 6, Validation Sharpe: -0.8826520442962646\n",
      "Fold: 7, Validation Sharpe: 1.8893156051635742\n",
      "Fold: 8, Validation Sharpe: 2.695181369781494\n",
      "Fold: 9, Validation Sharpe: -0.13830456137657166\n"
     ]
    },
    {
     "name": "stderr",
     "output_type": "stream",
     "text": [
      "\u001b[32m[I 2022-02-27 00:38:18,677]\u001b[0m Trial 1 finished with value: 1.0555031955242158 and parameters: {'learning rate': 0.004737873492187529, 'weight decay': 0.00024888755474496496}. Best is trial 1 with value: 1.0555031955242158.\u001b[0m\n"
     ]
    },
    {
     "name": "stdout",
     "output_type": "stream",
     "text": [
      "Fold: 10, Validation Sharpe: -0.9701162576675415\n",
      "Fold: 1, Validation Sharpe: 0.7205841541290283\n",
      "Fold: 2, Validation Sharpe: 0.6916160583496094\n",
      "Fold: 3, Validation Sharpe: -0.7519126534461975\n",
      "Fold: 4, Validation Sharpe: 0.7546581029891968\n",
      "Fold: 5, Validation Sharpe: 1.8514906167984009\n",
      "Fold: 6, Validation Sharpe: -0.09366850554943085\n",
      "Fold: 7, Validation Sharpe: 1.209141492843628\n",
      "Fold: 8, Validation Sharpe: 0.4396871030330658\n",
      "Fold: 9, Validation Sharpe: 0.24819712340831757\n"
     ]
    },
    {
     "name": "stderr",
     "output_type": "stream",
     "text": [
      "\u001b[32m[I 2022-02-27 00:38:29,406]\u001b[0m Trial 2 finished with value: 0.40481533110141754 and parameters: {'learning rate': 0.00017447328845987648, 'weight decay': 0.0007228569513108834}. Best is trial 1 with value: 1.0555031955242158.\u001b[0m\n"
     ]
    },
    {
     "name": "stdout",
     "output_type": "stream",
     "text": [
      "Fold: 10, Validation Sharpe: -1.0216401815414429\n",
      "Fold: 1, Validation Sharpe: 0.768607497215271\n",
      "Fold: 2, Validation Sharpe: 0.7457460761070251\n",
      "Fold: 3, Validation Sharpe: -0.5858623385429382\n",
      "Fold: 4, Validation Sharpe: 1.0542393922805786\n",
      "Fold: 5, Validation Sharpe: 1.3064347505569458\n",
      "Fold: 6, Validation Sharpe: -1.017379641532898\n",
      "Fold: 7, Validation Sharpe: 1.976401448249817\n",
      "Fold: 8, Validation Sharpe: 2.5017168521881104\n",
      "Fold: 9, Validation Sharpe: 0.034320440143346786\n"
     ]
    },
    {
     "name": "stderr",
     "output_type": "stream",
     "text": [
      "\u001b[32m[I 2022-02-27 00:38:39,658]\u001b[0m Trial 3 finished with value: 0.7084757562726736 and parameters: {'learning rate': 0.000692487630500164, 'weight decay': 0.0033998568428553664}. Best is trial 1 with value: 1.0555031955242158.\u001b[0m\n"
     ]
    },
    {
     "name": "stdout",
     "output_type": "stream",
     "text": [
      "Fold: 10, Validation Sharpe: 0.30053308606147766\n",
      "Fold: 1, Validation Sharpe: 0.7424088716506958\n",
      "Fold: 2, Validation Sharpe: 0.6965537071228027\n",
      "Fold: 3, Validation Sharpe: -0.7334409356117249\n",
      "Fold: 4, Validation Sharpe: 0.7925858497619629\n",
      "Fold: 5, Validation Sharpe: 1.8498445749282837\n",
      "Fold: 6, Validation Sharpe: -0.11982538551092148\n",
      "Fold: 7, Validation Sharpe: 1.2960460186004639\n",
      "Fold: 8, Validation Sharpe: 0.7149232029914856\n",
      "Fold: 9, Validation Sharpe: 0.27717381715774536\n"
     ]
    },
    {
     "name": "stderr",
     "output_type": "stream",
     "text": [
      "\u001b[32m[I 2022-02-27 00:38:49,541]\u001b[0m Trial 4 finished with value: 0.4702099360525608 and parameters: {'learning rate': 0.00022113871714019872, 'weight decay': 0.00019861300314101186}. Best is trial 1 with value: 1.0555031955242158.\u001b[0m\n"
     ]
    },
    {
     "name": "stdout",
     "output_type": "stream",
     "text": [
      "Fold: 10, Validation Sharpe: -0.8141703605651855\n",
      "Fold: 1, Validation Sharpe: 2.6236093044281006\n",
      "Fold: 2, Validation Sharpe: 0.5078884959220886\n",
      "Fold: 3, Validation Sharpe: 2.0487842559814453\n",
      "Fold: 4, Validation Sharpe: 2.7275288105010986\n",
      "Fold: 5, Validation Sharpe: -0.23747225105762482\n",
      "Fold: 6, Validation Sharpe: -0.9447987079620361\n",
      "Fold: 7, Validation Sharpe: 1.8865605592727661\n",
      "Fold: 8, Validation Sharpe: 2.652015209197998\n",
      "Fold: 9, Validation Sharpe: -0.21499496698379517\n"
     ]
    },
    {
     "name": "stderr",
     "output_type": "stream",
     "text": [
      "\u001b[32m[I 2022-02-27 00:39:00,206]\u001b[0m Trial 5 finished with value: 0.9732422158122063 and parameters: {'learning rate': 0.004310251139792064, 'weight decay': 0.0005893730983197871}. Best is trial 1 with value: 1.0555031955242158.\u001b[0m\n"
     ]
    },
    {
     "name": "stdout",
     "output_type": "stream",
     "text": [
      "Fold: 10, Validation Sharpe: -1.3166985511779785\n",
      "Fold: 1, Validation Sharpe: 0.9589893817901611\n",
      "Fold: 2, Validation Sharpe: 0.4229218363761902\n",
      "Fold: 3, Validation Sharpe: 1.0925354957580566\n",
      "Fold: 4, Validation Sharpe: 2.606982707977295\n",
      "Fold: 5, Validation Sharpe: -0.25015828013420105\n",
      "Fold: 6, Validation Sharpe: -1.0191863775253296\n",
      "Fold: 7, Validation Sharpe: 1.9613479375839233\n",
      "Fold: 8, Validation Sharpe: 2.5801680088043213\n",
      "Fold: 9, Validation Sharpe: -0.04468221962451935\n"
     ]
    },
    {
     "name": "stderr",
     "output_type": "stream",
     "text": [
      "\u001b[32m[I 2022-02-27 00:39:09,940]\u001b[0m Trial 6 finished with value: 0.8277558699250221 and parameters: {'learning rate': 0.001711524924764015, 'weight decay': 0.0005045682131279256}. Best is trial 1 with value: 1.0555031955242158.\u001b[0m\n"
     ]
    },
    {
     "name": "stdout",
     "output_type": "stream",
     "text": [
      "Fold: 10, Validation Sharpe: -0.03135979175567627\n",
      "Fold: 1, Validation Sharpe: 0.7824304699897766\n",
      "Fold: 2, Validation Sharpe: 0.6754556894302368\n",
      "Fold: 3, Validation Sharpe: -0.6775252223014832\n",
      "Fold: 4, Validation Sharpe: 0.8809373378753662\n",
      "Fold: 5, Validation Sharpe: 1.7012678384780884\n",
      "Fold: 6, Validation Sharpe: -0.6209881901741028\n",
      "Fold: 7, Validation Sharpe: 1.5987602472305298\n",
      "Fold: 8, Validation Sharpe: 1.8349312543869019\n",
      "Fold: 9, Validation Sharpe: -0.01957630179822445\n"
     ]
    },
    {
     "name": "stderr",
     "output_type": "stream",
     "text": [
      "\u001b[32m[I 2022-02-27 00:39:19,418]\u001b[0m Trial 7 finished with value: 0.6218804897740483 and parameters: {'learning rate': 0.0004068936866472476, 'weight decay': 8.089452570270331e-05}. Best is trial 1 with value: 1.0555031955242158.\u001b[0m\n"
     ]
    },
    {
     "name": "stdout",
     "output_type": "stream",
     "text": [
      "Fold: 10, Validation Sharpe: 0.06311177462339401\n",
      "Fold: 1, Validation Sharpe: 0.9745743274688721\n",
      "Fold: 2, Validation Sharpe: 0.39408713579177856\n",
      "Fold: 3, Validation Sharpe: 0.9186110496520996\n",
      "Fold: 4, Validation Sharpe: 2.5345613956451416\n",
      "Fold: 5, Validation Sharpe: -0.15236076712608337\n",
      "Fold: 6, Validation Sharpe: -1.0646674633026123\n",
      "Fold: 7, Validation Sharpe: 1.9138705730438232\n",
      "Fold: 8, Validation Sharpe: 2.5049240589141846\n",
      "Fold: 9, Validation Sharpe: 0.11357517540454865\n"
     ]
    },
    {
     "name": "stderr",
     "output_type": "stream",
     "text": [
      "\u001b[32m[I 2022-02-27 00:39:28,713]\u001b[0m Trial 8 finished with value: 0.8283017009496689 and parameters: {'learning rate': 0.0015521470380781039, 'weight decay': 0.002747795554312023}. Best is trial 1 with value: 1.0555031955242158.\u001b[0m\n"
     ]
    },
    {
     "name": "stdout",
     "output_type": "stream",
     "text": [
      "Fold: 10, Validation Sharpe: 0.14584152400493622\n",
      "Fold: 1, Validation Sharpe: 0.793199360370636\n",
      "Fold: 2, Validation Sharpe: 0.6377890110015869\n",
      "Fold: 3, Validation Sharpe: -0.744611382484436\n",
      "Fold: 4, Validation Sharpe: 0.8420313596725464\n",
      "Fold: 5, Validation Sharpe: 1.8478031158447266\n",
      "Fold: 6, Validation Sharpe: -0.19404496252536774\n",
      "Fold: 7, Validation Sharpe: 1.1855260133743286\n",
      "Fold: 8, Validation Sharpe: 0.4930671453475952\n",
      "Fold: 9, Validation Sharpe: 0.24664387106895447\n"
     ]
    },
    {
     "name": "stderr",
     "output_type": "stream",
     "text": [
      "\u001b[32m[I 2022-02-27 00:39:38,191]\u001b[0m Trial 9 finished with value: 0.4193855121731758 and parameters: {'learning rate': 0.00018668720458541732, 'weight decay': 2.6266570041976776e-05}. Best is trial 1 with value: 1.0555031955242158.\u001b[0m\n"
     ]
    },
    {
     "name": "stdout",
     "output_type": "stream",
     "text": [
      "Fold: 10, Validation Sharpe: -0.9135484099388123\n",
      "Fold: 1, Validation Sharpe: 0.7688313722610474\n",
      "Fold: 2, Validation Sharpe: 0.6343730092048645\n",
      "Fold: 3, Validation Sharpe: -0.7928675413131714\n",
      "Fold: 4, Validation Sharpe: 0.7456150650978088\n",
      "Fold: 5, Validation Sharpe: 1.8820438385009766\n",
      "Fold: 6, Validation Sharpe: -0.07181686162948608\n",
      "Fold: 7, Validation Sharpe: 1.0818002223968506\n",
      "Fold: 8, Validation Sharpe: -0.03187742084264755\n",
      "Fold: 9, Validation Sharpe: 0.17996597290039062\n"
     ]
    },
    {
     "name": "stderr",
     "output_type": "stream",
     "text": [
      "\u001b[32m[I 2022-02-27 00:39:48,135]\u001b[0m Trial 10 finished with value: 0.31011823788285253 and parameters: {'learning rate': 7.900480254846842e-06, 'weight decay': 1.392320662856628e-06}. Best is trial 1 with value: 1.0555031955242158.\u001b[0m\n"
     ]
    },
    {
     "name": "stdout",
     "output_type": "stream",
     "text": [
      "Fold: 10, Validation Sharpe: -1.294885277748108\n",
      "Fold: 1, Validation Sharpe: 1.0583925247192383\n",
      "Fold: 2, Validation Sharpe: 0.06705320626497269\n",
      "Fold: 3, Validation Sharpe: 1.4109066724777222\n",
      "Fold: 4, Validation Sharpe: 2.73573637008667\n",
      "Fold: 5, Validation Sharpe: 0.013723060488700867\n",
      "Fold: 6, Validation Sharpe: -0.9888771772384644\n",
      "Fold: 7, Validation Sharpe: 1.9596623182296753\n",
      "Fold: 8, Validation Sharpe: 2.6000893115997314\n",
      "Fold: 9, Validation Sharpe: -0.02507505938410759\n"
     ]
    },
    {
     "name": "stderr",
     "output_type": "stream",
     "text": [
      "\u001b[32m[I 2022-02-27 00:39:57,538]\u001b[0m Trial 11 finished with value: 0.9416774641722441 and parameters: {'learning rate': 0.0042683627556860376, 'weight decay': 0.02311465403125245}. Best is trial 1 with value: 1.0555031955242158.\u001b[0m\n"
     ]
    },
    {
     "name": "stdout",
     "output_type": "stream",
     "text": [
      "Fold: 10, Validation Sharpe: 0.585163414478302\n",
      "Fold: 1, Validation Sharpe: 0.764112114906311\n",
      "Fold: 2, Validation Sharpe: 0.6442855596542358\n",
      "Fold: 3, Validation Sharpe: -0.788826048374176\n",
      "Fold: 4, Validation Sharpe: 0.7503200769424438\n",
      "Fold: 5, Validation Sharpe: 1.8896489143371582\n",
      "Fold: 6, Validation Sharpe: -0.08998317271471024\n",
      "Fold: 7, Validation Sharpe: 1.0554901361465454\n",
      "Fold: 8, Validation Sharpe: 0.03168901056051254\n",
      "Fold: 9, Validation Sharpe: 0.13025210797786713\n"
     ]
    },
    {
     "name": "stderr",
     "output_type": "stream",
     "text": [
      "\u001b[32m[I 2022-02-27 00:40:07,058]\u001b[0m Trial 12 finished with value: 0.31107940077781676 and parameters: {'learning rate': 1.4701301679410552e-05, 'weight decay': 1.3680968289704722e-05}. Best is trial 1 with value: 1.0555031955242158.\u001b[0m\n"
     ]
    },
    {
     "name": "stdout",
     "output_type": "stream",
     "text": [
      "Fold: 10, Validation Sharpe: -1.27619469165802\n",
      "Fold: 1, Validation Sharpe: 2.532675266265869\n",
      "Fold: 2, Validation Sharpe: 0.10441011935472488\n",
      "Fold: 3, Validation Sharpe: 1.7212040424346924\n",
      "Fold: 4, Validation Sharpe: 2.7643332481384277\n",
      "Fold: 5, Validation Sharpe: -0.04096963629126549\n",
      "Fold: 6, Validation Sharpe: -1.0493131875991821\n",
      "Fold: 7, Validation Sharpe: 1.9431331157684326\n",
      "Fold: 8, Validation Sharpe: 2.544337749481201\n",
      "Fold: 9, Validation Sharpe: 0.05112680792808533\n"
     ]
    },
    {
     "name": "stderr",
     "output_type": "stream",
     "text": [
      "\u001b[32m[I 2022-02-27 00:40:16,521]\u001b[0m Trial 13 finished with value: 1.017744929715991 and parameters: {'learning rate': 0.004241654434099409, 'weight decay': 0.0029905414093145425}. Best is trial 1 with value: 1.0555031955242158.\u001b[0m\n"
     ]
    },
    {
     "name": "stdout",
     "output_type": "stream",
     "text": [
      "Fold: 10, Validation Sharpe: -0.39348822832107544\n",
      "Fold: 1, Validation Sharpe: 0.7219422459602356\n",
      "Fold: 2, Validation Sharpe: 0.6465073227882385\n",
      "Fold: 3, Validation Sharpe: -0.7979923486709595\n",
      "Fold: 4, Validation Sharpe: 0.7058829069137573\n",
      "Fold: 5, Validation Sharpe: 1.8896574974060059\n",
      "Fold: 6, Validation Sharpe: -0.02698238007724285\n",
      "Fold: 7, Validation Sharpe: 1.0707110166549683\n",
      "Fold: 8, Validation Sharpe: -0.006429498083889484\n",
      "Fold: 9, Validation Sharpe: 0.16129520535469055\n"
     ]
    },
    {
     "name": "stderr",
     "output_type": "stream",
     "text": [
      "\u001b[32m[I 2022-02-27 00:40:25,878]\u001b[0m Trial 14 finished with value: 0.3080374968238175 and parameters: {'learning rate': 3.576820103273268e-05, 'weight decay': 0.026114829643347666}. Best is trial 1 with value: 1.0555031955242158.\u001b[0m\n"
     ]
    },
    {
     "name": "stdout",
     "output_type": "stream",
     "text": [
      "Fold: 10, Validation Sharpe: -1.2842170000076294\n",
      "Fold: 1, Validation Sharpe: 0.737847089767456\n",
      "Fold: 2, Validation Sharpe: 0.659579873085022\n",
      "Fold: 3, Validation Sharpe: -0.792255163192749\n",
      "Fold: 4, Validation Sharpe: 0.7546218037605286\n",
      "Fold: 5, Validation Sharpe: 1.905958890914917\n",
      "Fold: 6, Validation Sharpe: -0.020532958209514618\n",
      "Fold: 7, Validation Sharpe: 1.101383090019226\n",
      "Fold: 8, Validation Sharpe: 0.08524315059185028\n",
      "Fold: 9, Validation Sharpe: 0.19255445897579193\n"
     ]
    },
    {
     "name": "stderr",
     "output_type": "stream",
     "text": [
      "\u001b[32m[I 2022-02-27 00:40:35,248]\u001b[0m Trial 15 finished with value: 0.3409095861017704 and parameters: {'learning rate': 5.5051398049154874e-05, 'weight decay': 0.0040003345716148105}. Best is trial 1 with value: 1.0555031955242158.\u001b[0m\n"
     ]
    },
    {
     "name": "stdout",
     "output_type": "stream",
     "text": [
      "Fold: 10, Validation Sharpe: -1.2153043746948242\n",
      "Fold: 1, Validation Sharpe: 0.7048028111457825\n",
      "Fold: 2, Validation Sharpe: 0.7433983683586121\n",
      "Fold: 3, Validation Sharpe: -0.7712064385414124\n",
      "Fold: 4, Validation Sharpe: 0.7626463770866394\n",
      "Fold: 5, Validation Sharpe: 1.8787201642990112\n",
      "Fold: 6, Validation Sharpe: 0.02491758018732071\n",
      "Fold: 7, Validation Sharpe: 1.1619350910186768\n",
      "Fold: 8, Validation Sharpe: 0.09033216536045074\n",
      "Fold: 9, Validation Sharpe: 0.18610155582427979\n"
     ]
    },
    {
     "name": "stderr",
     "output_type": "stream",
     "text": [
      "\u001b[32m[I 2022-02-27 00:40:44,678]\u001b[0m Trial 16 finished with value: 0.3516407124698162 and parameters: {'learning rate': 1.1276812100321693e-06, 'weight decay': 0.008360337988977576}. Best is trial 1 with value: 1.0555031955242158.\u001b[0m\n"
     ]
    },
    {
     "name": "stdout",
     "output_type": "stream",
     "text": [
      "Fold: 10, Validation Sharpe: -1.2652405500411987\n",
      "Fold: 1, Validation Sharpe: 0.9203131198883057\n",
      "Fold: 2, Validation Sharpe: 0.45045018196105957\n",
      "Fold: 3, Validation Sharpe: 1.0200830698013306\n",
      "Fold: 4, Validation Sharpe: 2.597121238708496\n",
      "Fold: 5, Validation Sharpe: -0.1999737024307251\n",
      "Fold: 6, Validation Sharpe: -1.0187897682189941\n",
      "Fold: 7, Validation Sharpe: 1.9790639877319336\n",
      "Fold: 8, Validation Sharpe: 2.557802677154541\n",
      "Fold: 9, Validation Sharpe: -0.20669618248939514\n"
     ]
    },
    {
     "name": "stderr",
     "output_type": "stream",
     "text": [
      "\u001b[32m[I 2022-02-27 00:40:54,018]\u001b[0m Trial 17 finished with value: 0.7696759879589081 and parameters: {'learning rate': 0.0016476264671910588, 'weight decay': 0.0014494144618156983}. Best is trial 1 with value: 1.0555031955242158.\u001b[0m\n"
     ]
    },
    {
     "name": "stdout",
     "output_type": "stream",
     "text": [
      "Fold: 10, Validation Sharpe: -0.4026147425174713\n",
      "Fold: 1, Validation Sharpe: 3.1004998683929443\n",
      "Fold: 2, Validation Sharpe: 0.7955125570297241\n",
      "Fold: 3, Validation Sharpe: 2.1787497997283936\n",
      "Fold: 4, Validation Sharpe: 2.597203493118286\n",
      "Fold: 5, Validation Sharpe: -0.21999703347682953\n",
      "Fold: 6, Validation Sharpe: -0.8435050845146179\n",
      "Fold: 7, Validation Sharpe: 1.7455700635910034\n",
      "Fold: 8, Validation Sharpe: 2.7469210624694824\n",
      "Fold: 9, Validation Sharpe: -0.0046896724961698055\n"
     ]
    },
    {
     "name": "stderr",
     "output_type": "stream",
     "text": [
      "\u001b[32m[I 2022-02-27 00:41:03,387]\u001b[0m Trial 18 finished with value: 1.149595949659124 and parameters: {'learning rate': 0.0049622312284710625, 'weight decay': 5.288782736026495e-05}. Best is trial 18 with value: 1.149595949659124.\u001b[0m\n"
     ]
    },
    {
     "name": "stdout",
     "output_type": "stream",
     "text": [
      "Fold: 10, Validation Sharpe: -0.6003055572509766\n",
      "Fold: 1, Validation Sharpe: 0.7363789081573486\n",
      "Fold: 2, Validation Sharpe: 0.6459757089614868\n",
      "Fold: 3, Validation Sharpe: -0.798591136932373\n",
      "Fold: 4, Validation Sharpe: 0.6354031562805176\n",
      "Fold: 5, Validation Sharpe: 1.8620202541351318\n",
      "Fold: 6, Validation Sharpe: 0.00936800241470337\n",
      "Fold: 7, Validation Sharpe: 1.062968373298645\n",
      "Fold: 8, Validation Sharpe: -0.10850218683481216\n",
      "Fold: 9, Validation Sharpe: 0.19294892251491547\n"
     ]
    },
    {
     "name": "stderr",
     "output_type": "stream",
     "text": [
      "\u001b[32m[I 2022-02-27 00:41:12,916]\u001b[0m Trial 19 finished with value: 0.28866105154156685 and parameters: {'learning rate': 3.0062823570979045e-06, 'weight decay': 8.268421216186394e-06}. Best is trial 18 with value: 1.149595949659124.\u001b[0m\n"
     ]
    },
    {
     "name": "stdout",
     "output_type": "stream",
     "text": [
      "Fold: 10, Validation Sharpe: -1.351359486579895\n",
      "Fold: 1, Validation Sharpe: 0.8389217853546143\n",
      "Fold: 2, Validation Sharpe: 0.5791501998901367\n",
      "Fold: 3, Validation Sharpe: 0.5327555537223816\n",
      "Fold: 4, Validation Sharpe: 2.437096357345581\n",
      "Fold: 5, Validation Sharpe: -0.2526114881038666\n",
      "Fold: 6, Validation Sharpe: -1.039021611213684\n",
      "Fold: 7, Validation Sharpe: 1.9466335773468018\n",
      "Fold: 8, Validation Sharpe: 2.565201997756958\n",
      "Fold: 9, Validation Sharpe: 0.027757925912737846\n"
     ]
    },
    {
     "name": "stderr",
     "output_type": "stream",
     "text": [
      "\u001b[32m[I 2022-02-27 00:41:22,823]\u001b[0m Trial 20 finished with value: 0.8311938000842929 and parameters: {'learning rate': 0.0013054417354810644, 'weight decay': 4.632571896490694e-05}. Best is trial 18 with value: 1.149595949659124.\u001b[0m\n"
     ]
    },
    {
     "name": "stdout",
     "output_type": "stream",
     "text": [
      "Fold: 10, Validation Sharpe: 0.6760537028312683\n",
      "Fold: 1, Validation Sharpe: 2.913104295730591\n",
      "Fold: 2, Validation Sharpe: 0.6412639617919922\n",
      "Fold: 3, Validation Sharpe: 2.12831974029541\n",
      "Fold: 4, Validation Sharpe: 2.5227444171905518\n",
      "Fold: 5, Validation Sharpe: -0.2150433361530304\n",
      "Fold: 6, Validation Sharpe: -0.8720411658287048\n",
      "Fold: 7, Validation Sharpe: 1.8568974733352661\n",
      "Fold: 8, Validation Sharpe: 2.896270275115967\n",
      "Fold: 9, Validation Sharpe: 0.023117197677493095\n"
     ]
    },
    {
     "name": "stderr",
     "output_type": "stream",
     "text": [
      "\u001b[32m[I 2022-02-27 00:41:33,377]\u001b[0m Trial 21 finished with value: 1.1426567209884524 and parameters: {'learning rate': 0.004214434316306312, 'weight decay': 3.5448489068142427e-06}. Best is trial 18 with value: 1.149595949659124.\u001b[0m\n"
     ]
    },
    {
     "name": "stdout",
     "output_type": "stream",
     "text": [
      "Fold: 10, Validation Sharpe: -0.46806564927101135\n",
      "Fold: 1, Validation Sharpe: 3.072755813598633\n",
      "Fold: 2, Validation Sharpe: 0.6980735659599304\n",
      "Fold: 3, Validation Sharpe: 2.1909523010253906\n",
      "Fold: 4, Validation Sharpe: 2.43166446685791\n",
      "Fold: 5, Validation Sharpe: -0.2895549535751343\n",
      "Fold: 6, Validation Sharpe: -0.8288564085960388\n",
      "Fold: 7, Validation Sharpe: 1.8941642045974731\n",
      "Fold: 8, Validation Sharpe: 2.546726942062378\n",
      "Fold: 9, Validation Sharpe: -0.03946642205119133\n"
     ]
    },
    {
     "name": "stderr",
     "output_type": "stream",
     "text": [
      "\u001b[32m[I 2022-02-27 00:41:43,569]\u001b[0m Trial 22 finished with value: 1.1259587902575732 and parameters: {'learning rate': 0.004869804377187539, 'weight decay': 2.9028204359173965e-06}. Best is trial 18 with value: 1.149595949659124.\u001b[0m\n"
     ]
    },
    {
     "name": "stdout",
     "output_type": "stream",
     "text": [
      "Fold: 10, Validation Sharpe: -0.4168716073036194\n",
      "Fold: 1, Validation Sharpe: 1.1975162029266357\n",
      "Fold: 2, Validation Sharpe: 0.2818849980831146\n",
      "Fold: 3, Validation Sharpe: 1.7437834739685059\n",
      "Fold: 4, Validation Sharpe: 2.6598803997039795\n",
      "Fold: 5, Validation Sharpe: -0.25107935070991516\n",
      "Fold: 6, Validation Sharpe: -0.9361678957939148\n",
      "Fold: 7, Validation Sharpe: 1.9389113187789917\n",
      "Fold: 8, Validation Sharpe: 2.8567559719085693\n",
      "Fold: 9, Validation Sharpe: 0.2683519124984741\n"
     ]
    },
    {
     "name": "stderr",
     "output_type": "stream",
     "text": [
      "\u001b[32m[I 2022-02-27 00:41:53,397]\u001b[0m Trial 23 finished with value: 1.014249786734581 and parameters: {'learning rate': 0.002611376093333779, 'weight decay': 1.8630737884960432e-06}. Best is trial 18 with value: 1.149595949659124.\u001b[0m\n"
     ]
    },
    {
     "name": "stdout",
     "output_type": "stream",
     "text": [
      "Fold: 10, Validation Sharpe: 0.382660835981369\n",
      "Fold: 1, Validation Sharpe: 0.7918001413345337\n",
      "Fold: 2, Validation Sharpe: 0.7104493379592896\n",
      "Fold: 3, Validation Sharpe: -0.26220664381980896\n",
      "Fold: 4, Validation Sharpe: 1.8997594118118286\n",
      "Fold: 5, Validation Sharpe: -0.19373111426830292\n",
      "Fold: 6, Validation Sharpe: -1.0759401321411133\n",
      "Fold: 7, Validation Sharpe: 1.9369356632232666\n",
      "Fold: 8, Validation Sharpe: 2.522615671157837\n",
      "Fold: 9, Validation Sharpe: -0.14985109865665436\n"
     ]
    },
    {
     "name": "stderr",
     "output_type": "stream",
     "text": [
      "\u001b[32m[I 2022-02-27 00:42:03,393]\u001b[0m Trial 24 finished with value: 0.6847546368837356 and parameters: {'learning rate': 0.0009832563514284426, 'weight decay': 3.7872439829738406e-06}. Best is trial 18 with value: 1.149595949659124.\u001b[0m\n"
     ]
    },
    {
     "name": "stdout",
     "output_type": "stream",
     "text": [
      "Fold: 10, Validation Sharpe: 0.6677151322364807\n",
      "Fold: 1, Validation Sharpe: 1.2417495250701904\n",
      "Fold: 2, Validation Sharpe: 0.1327771693468094\n",
      "Fold: 3, Validation Sharpe: 1.6506303548812866\n",
      "Fold: 4, Validation Sharpe: 2.635979175567627\n",
      "Fold: 5, Validation Sharpe: -0.24023696780204773\n",
      "Fold: 6, Validation Sharpe: -0.9576431512832642\n",
      "Fold: 7, Validation Sharpe: 1.9382354021072388\n",
      "Fold: 8, Validation Sharpe: 2.7959787845611572\n",
      "Fold: 9, Validation Sharpe: 0.24068985879421234\n"
     ]
    },
    {
     "name": "stderr",
     "output_type": "stream",
     "text": [
      "\u001b[32m[I 2022-02-27 00:42:13,030]\u001b[0m Trial 25 finished with value: 0.9857604563236236 and parameters: {'learning rate': 0.0023016990854611017, 'weight decay': 4.487916513451975e-06}. Best is trial 18 with value: 1.149595949659124.\u001b[0m\n"
     ]
    },
    {
     "name": "stdout",
     "output_type": "stream",
     "text": [
      "Fold: 10, Validation Sharpe: 0.41944441199302673\n",
      "Fold: 1, Validation Sharpe: 0.7508795857429504\n",
      "Fold: 2, Validation Sharpe: 0.6728337407112122\n",
      "Fold: 3, Validation Sharpe: -0.731507420539856\n",
      "Fold: 4, Validation Sharpe: 0.8234232664108276\n",
      "Fold: 5, Validation Sharpe: 1.853774070739746\n",
      "Fold: 6, Validation Sharpe: -0.23162735998630524\n",
      "Fold: 7, Validation Sharpe: 1.309326171875\n",
      "Fold: 8, Validation Sharpe: 0.9263952374458313\n",
      "Fold: 9, Validation Sharpe: 0.27887162566185\n"
     ]
    },
    {
     "name": "stderr",
     "output_type": "stream",
     "text": [
      "\u001b[32m[I 2022-02-27 00:42:26,640]\u001b[0m Trial 26 finished with value: 0.5095208540558815 and parameters: {'learning rate': 0.0002992739947931077, 'weight decay': 1.409834308501311e-05}. Best is trial 18 with value: 1.149595949659124.\u001b[0m\n"
     ]
    },
    {
     "name": "stdout",
     "output_type": "stream",
     "text": [
      "Fold: 10, Validation Sharpe: -0.5571603775024414\n",
      "Fold: 1, Validation Sharpe: 0.7928440570831299\n",
      "Fold: 2, Validation Sharpe: 0.7326946258544922\n",
      "Fold: 3, Validation Sharpe: -0.44179126620292664\n",
      "Fold: 4, Validation Sharpe: 1.3732397556304932\n",
      "Fold: 5, Validation Sharpe: 0.2225528508424759\n",
      "Fold: 6, Validation Sharpe: -1.1012821197509766\n",
      "Fold: 7, Validation Sharpe: 1.9303460121154785\n",
      "Fold: 8, Validation Sharpe: 2.5191543102264404\n",
      "Fold: 9, Validation Sharpe: -0.10510343313217163\n"
     ]
    },
    {
     "name": "stderr",
     "output_type": "stream",
     "text": [
      "\u001b[32m[I 2022-02-27 00:42:39,532]\u001b[0m Trial 27 finished with value: 0.6446043357253075 and parameters: {'learning rate': 0.0007444261278218235, 'weight decay': 1.057453513409537e-06}. Best is trial 18 with value: 1.149595949659124.\u001b[0m\n"
     ]
    },
    {
     "name": "stdout",
     "output_type": "stream",
     "text": [
      "Fold: 10, Validation Sharpe: 0.5233885645866394\n",
      "Fold: 1, Validation Sharpe: 1.3947834968566895\n",
      "Fold: 2, Validation Sharpe: 0.15528109669685364\n",
      "Fold: 3, Validation Sharpe: 1.7871425151824951\n",
      "Fold: 4, Validation Sharpe: 2.6417412757873535\n",
      "Fold: 5, Validation Sharpe: -0.2256041020154953\n",
      "Fold: 6, Validation Sharpe: -0.9300666451454163\n",
      "Fold: 7, Validation Sharpe: 1.9290571212768555\n",
      "Fold: 8, Validation Sharpe: 2.7560482025146484\n",
      "Fold: 9, Validation Sharpe: 0.16359886527061462\n"
     ]
    },
    {
     "name": "stderr",
     "output_type": "stream",
     "text": [
      "\u001b[32m[I 2022-02-27 00:42:52,271]\u001b[0m Trial 28 finished with value: 0.9829932928085328 and parameters: {'learning rate': 0.0026134062364083586, 'weight decay': 2.9257256210335182e-06}. Best is trial 18 with value: 1.149595949659124.\u001b[0m\n"
     ]
    },
    {
     "name": "stdout",
     "output_type": "stream",
     "text": [
      "Fold: 10, Validation Sharpe: 0.15795110166072845\n",
      "Fold: 1, Validation Sharpe: 0.7611931562423706\n",
      "Fold: 2, Validation Sharpe: 0.6630529165267944\n",
      "Fold: 3, Validation Sharpe: -0.7513002753257751\n",
      "Fold: 4, Validation Sharpe: 0.7457730770111084\n",
      "Fold: 5, Validation Sharpe: 1.828752875328064\n",
      "Fold: 6, Validation Sharpe: -0.1394871473312378\n",
      "Fold: 7, Validation Sharpe: 1.1563172340393066\n",
      "Fold: 8, Validation Sharpe: 0.2272341549396515\n",
      "Fold: 9, Validation Sharpe: 0.16941823065280914\n"
     ]
    },
    {
     "name": "stderr",
     "output_type": "stream",
     "text": [
      "\u001b[32m[I 2022-02-27 00:43:07,054]\u001b[0m Trial 29 finished with value: 0.3522313579916954 and parameters: {'learning rate': 0.00010248345364932976, 'weight decay': 7.682981670382725e-05}. Best is trial 18 with value: 1.149595949659124.\u001b[0m\n"
     ]
    },
    {
     "name": "stdout",
     "output_type": "stream",
     "text": [
      "Fold: 10, Validation Sharpe: -1.1386406421661377\n",
      "Fold: 1, Validation Sharpe: 0.7860445380210876\n",
      "Fold: 2, Validation Sharpe: 0.6998992562294006\n",
      "Fold: 3, Validation Sharpe: -0.6098645925521851\n",
      "Fold: 4, Validation Sharpe: 0.9243811368942261\n",
      "Fold: 5, Validation Sharpe: 1.6144179105758667\n",
      "Fold: 6, Validation Sharpe: -0.8250020146369934\n",
      "Fold: 7, Validation Sharpe: 1.803412914276123\n",
      "Fold: 8, Validation Sharpe: 2.2523720264434814\n",
      "Fold: 9, Validation Sharpe: -0.08711045980453491\n"
     ]
    },
    {
     "name": "stderr",
     "output_type": "stream",
     "text": [
      "\u001b[32m[I 2022-02-27 00:43:17,329]\u001b[0m Trial 30 finished with value: 0.6882587552070618 and parameters: {'learning rate': 0.0005064910781491854, 'weight decay': 6.788982418222792e-06}. Best is trial 18 with value: 1.149595949659124.\u001b[0m\n"
     ]
    },
    {
     "name": "stdout",
     "output_type": "stream",
     "text": [
      "Fold: 10, Validation Sharpe: 0.3240368366241455\n",
      "Fold: 1, Validation Sharpe: 3.0373635292053223\n",
      "Fold: 2, Validation Sharpe: 0.6779966354370117\n",
      "Fold: 3, Validation Sharpe: 2.119319438934326\n",
      "Fold: 4, Validation Sharpe: 2.652365207672119\n",
      "Fold: 5, Validation Sharpe: -0.27207696437835693\n",
      "Fold: 6, Validation Sharpe: -0.8484402298927307\n",
      "Fold: 7, Validation Sharpe: 1.8974196910858154\n",
      "Fold: 8, Validation Sharpe: 2.799473285675049\n",
      "Fold: 9, Validation Sharpe: -0.08993766456842422\n"
     ]
    },
    {
     "name": "stderr",
     "output_type": "stream",
     "text": [
      "\u001b[32m[I 2022-02-27 00:43:26,416]\u001b[0m Trial 31 finished with value: 1.1036650381982327 and parameters: {'learning rate': 0.004493893487350052, 'weight decay': 0.0002670149070541749}. Best is trial 18 with value: 1.149595949659124.\u001b[0m\n"
     ]
    },
    {
     "name": "stdout",
     "output_type": "stream",
     "text": [
      "Fold: 10, Validation Sharpe: -0.9368325471878052\n",
      "Fold: 1, Validation Sharpe: 3.0333919525146484\n",
      "Fold: 2, Validation Sharpe: 0.751555323600769\n",
      "Fold: 3, Validation Sharpe: 2.179680824279785\n",
      "Fold: 4, Validation Sharpe: 2.591059923171997\n",
      "Fold: 5, Validation Sharpe: -0.2291557341814041\n",
      "Fold: 6, Validation Sharpe: -0.8824208974838257\n",
      "Fold: 7, Validation Sharpe: 1.7902796268463135\n",
      "Fold: 8, Validation Sharpe: 2.577176809310913\n",
      "Fold: 9, Validation Sharpe: -0.03333745896816254\n"
     ]
    },
    {
     "name": "stderr",
     "output_type": "stream",
     "text": [
      "\u001b[32m[I 2022-02-27 00:43:35,382]\u001b[0m Trial 32 finished with value: 1.1092356503009797 and parameters: {'learning rate': 0.004765831316636376, 'weight decay': 9.87145444341952e-05}. Best is trial 18 with value: 1.149595949659124.\u001b[0m\n"
     ]
    },
    {
     "name": "stdout",
     "output_type": "stream",
     "text": [
      "Fold: 10, Validation Sharpe: -0.6858738660812378\n",
      "Fold: 1, Validation Sharpe: 1.5581032037734985\n",
      "Fold: 2, Validation Sharpe: 0.14060115814208984\n",
      "Fold: 3, Validation Sharpe: 1.874819278717041\n",
      "Fold: 4, Validation Sharpe: 2.6648693084716797\n",
      "Fold: 5, Validation Sharpe: -0.27115723490715027\n",
      "Fold: 6, Validation Sharpe: -0.9082822203636169\n",
      "Fold: 7, Validation Sharpe: 1.91865074634552\n",
      "Fold: 8, Validation Sharpe: 2.6376731395721436\n",
      "Fold: 9, Validation Sharpe: 0.02163238264620304\n"
     ]
    },
    {
     "name": "stderr",
     "output_type": "stream",
     "text": [
      "\u001b[32m[I 2022-02-27 00:43:44,467]\u001b[0m Trial 33 finished with value: 0.9418515512719751 and parameters: {'learning rate': 0.0029140363772450248, 'weight decay': 2.8446292185981653e-05}. Best is trial 18 with value: 1.149595949659124.\u001b[0m\n"
     ]
    },
    {
     "name": "stdout",
     "output_type": "stream",
     "text": [
      "Fold: 10, Validation Sharpe: -0.21839424967765808\n",
      "Fold: 1, Validation Sharpe: 0.863091766834259\n",
      "Fold: 2, Validation Sharpe: 0.6145129203796387\n",
      "Fold: 3, Validation Sharpe: -0.20657774806022644\n",
      "Fold: 4, Validation Sharpe: 2.007817268371582\n",
      "Fold: 5, Validation Sharpe: -0.2018113136291504\n",
      "Fold: 6, Validation Sharpe: -1.0852043628692627\n",
      "Fold: 7, Validation Sharpe: 1.9318439960479736\n",
      "Fold: 8, Validation Sharpe: 2.482564687728882\n",
      "Fold: 9, Validation Sharpe: -0.18469561636447906\n"
     ]
    },
    {
     "name": "stderr",
     "output_type": "stream",
     "text": [
      "\u001b[32m[I 2022-02-27 00:43:53,654]\u001b[0m Trial 34 finished with value: 0.6837717548012734 and parameters: {'learning rate': 0.0009716733605248616, 'weight decay': 0.00010581407320195978}. Best is trial 18 with value: 1.149595949659124.\u001b[0m\n"
     ]
    },
    {
     "name": "stdout",
     "output_type": "stream",
     "text": [
      "Fold: 10, Validation Sharpe: 0.6161759495735168\n",
      "Fold: 1, Validation Sharpe: 1.6280404329299927\n",
      "Fold: 2, Validation Sharpe: 0.28196442127227783\n",
      "Fold: 3, Validation Sharpe: 1.9296720027923584\n",
      "Fold: 4, Validation Sharpe: 2.5805935859680176\n",
      "Fold: 5, Validation Sharpe: -0.25569793581962585\n",
      "Fold: 6, Validation Sharpe: -0.8924981355667114\n",
      "Fold: 7, Validation Sharpe: 1.9115854501724243\n",
      "Fold: 8, Validation Sharpe: 2.6762070655822754\n",
      "Fold: 9, Validation Sharpe: 0.11842668801546097\n"
     ]
    },
    {
     "name": "stderr",
     "output_type": "stream",
     "text": [
      "\u001b[32m[I 2022-02-27 00:44:03,949]\u001b[0m Trial 35 finished with value: 0.9914246939122677 and parameters: {'learning rate': 0.003111181734635262, 'weight decay': 1.8049435988228087e-05}. Best is trial 18 with value: 1.149595949659124.\u001b[0m\n"
     ]
    },
    {
     "name": "stdout",
     "output_type": "stream",
     "text": [
      "Fold: 10, Validation Sharpe: -0.06404663622379303\n",
      "Fold: 1, Validation Sharpe: 1.034733772277832\n",
      "Fold: 2, Validation Sharpe: 0.22237206995487213\n",
      "Fold: 3, Validation Sharpe: 1.2872049808502197\n",
      "Fold: 4, Validation Sharpe: 2.5837912559509277\n",
      "Fold: 5, Validation Sharpe: -0.24213357269763947\n",
      "Fold: 6, Validation Sharpe: -0.9715794324874878\n",
      "Fold: 7, Validation Sharpe: 1.940623164176941\n",
      "Fold: 8, Validation Sharpe: 2.657931089401245\n",
      "Fold: 9, Validation Sharpe: 0.07681550085544586\n"
     ]
    },
    {
     "name": "stderr",
     "output_type": "stream",
     "text": [
      "\u001b[32m[I 2022-02-27 00:44:13,816]\u001b[0m Trial 36 finished with value: 0.8893670484423637 and parameters: {'learning rate': 0.0018436508553229891, 'weight decay': 2.1303066223462627e-06}. Best is trial 18 with value: 1.149595949659124.\u001b[0m\n"
     ]
    },
    {
     "name": "stdout",
     "output_type": "stream",
     "text": [
      "Fold: 10, Validation Sharpe: 0.30391165614128113\n",
      "Fold: 1, Validation Sharpe: 3.019317388534546\n",
      "Fold: 2, Validation Sharpe: 0.8506651520729065\n",
      "Fold: 3, Validation Sharpe: 2.191622257232666\n",
      "Fold: 4, Validation Sharpe: 2.519012928009033\n",
      "Fold: 5, Validation Sharpe: -0.18134161829948425\n",
      "Fold: 6, Validation Sharpe: -0.7750900983810425\n",
      "Fold: 7, Validation Sharpe: 1.7906216382980347\n",
      "Fold: 8, Validation Sharpe: 2.8429105281829834\n",
      "Fold: 9, Validation Sharpe: -0.007935788482427597\n"
     ]
    },
    {
     "name": "stderr",
     "output_type": "stream",
     "text": [
      "\u001b[32m[I 2022-02-27 00:44:24,299]\u001b[0m Trial 37 finished with value: 1.1522567991167307 and parameters: {'learning rate': 0.0048215509208106395, 'weight decay': 7.853602148587449e-06}. Best is trial 37 with value: 1.1522567991167307.\u001b[0m\n"
     ]
    },
    {
     "name": "stdout",
     "output_type": "stream",
     "text": [
      "Fold: 10, Validation Sharpe: -0.7272143959999084\n",
      "Fold: 1, Validation Sharpe: 0.8499612808227539\n",
      "Fold: 2, Validation Sharpe: 0.6725962162017822\n",
      "Fold: 3, Validation Sharpe: 0.2370094507932663\n",
      "Fold: 4, Validation Sharpe: 2.2700490951538086\n",
      "Fold: 5, Validation Sharpe: -0.23609842360019684\n",
      "Fold: 6, Validation Sharpe: -1.0576612949371338\n",
      "Fold: 7, Validation Sharpe: 1.9278723001480103\n",
      "Fold: 8, Validation Sharpe: 2.5305206775665283\n",
      "Fold: 9, Validation Sharpe: -0.07662107795476913\n"
     ]
    },
    {
     "name": "stderr",
     "output_type": "stream",
     "text": [
      "\u001b[32m[I 2022-02-27 00:44:36,083]\u001b[0m Trial 38 finished with value: 0.7887589164078236 and parameters: {'learning rate': 0.0011470037057737593, 'weight decay': 7.160200195832574e-06}. Best is trial 37 with value: 1.1522567991167307.\u001b[0m\n"
     ]
    },
    {
     "name": "stdout",
     "output_type": "stream",
     "text": [
      "Fold: 10, Validation Sharpe: 0.7699609398841858\n",
      "Fold: 1, Validation Sharpe: 0.8060919642448425\n",
      "Fold: 2, Validation Sharpe: 0.6631147265434265\n",
      "Fold: 3, Validation Sharpe: -0.6765222549438477\n",
      "Fold: 4, Validation Sharpe: 0.8576180934906006\n",
      "Fold: 5, Validation Sharpe: 1.71798837184906\n",
      "Fold: 6, Validation Sharpe: -0.5618026852607727\n",
      "Fold: 7, Validation Sharpe: 1.4233717918395996\n",
      "Fold: 8, Validation Sharpe: 1.5372248888015747\n",
      "Fold: 9, Validation Sharpe: -0.016903435811400414\n"
     ]
    },
    {
     "name": "stderr",
     "output_type": "stream",
     "text": [
      "\u001b[32m[I 2022-02-27 00:44:46,791]\u001b[0m Trial 39 finished with value: 0.5738882759585977 and parameters: {'learning rate': 0.00040817745632024284, 'weight decay': 3.567870757050873e-05}. Best is trial 37 with value: 1.1522567991167307.\u001b[0m\n"
     ]
    },
    {
     "name": "stdout",
     "output_type": "stream",
     "text": [
      "Fold: 10, Validation Sharpe: -0.011298701167106628\n",
      "Fold: 1, Validation Sharpe: 0.7777780294418335\n",
      "Fold: 2, Validation Sharpe: 0.657758355140686\n",
      "Fold: 3, Validation Sharpe: -0.5932514667510986\n",
      "Fold: 4, Validation Sharpe: 1.0312021970748901\n",
      "Fold: 5, Validation Sharpe: 1.1617348194122314\n",
      "Fold: 6, Validation Sharpe: -1.0681215524673462\n",
      "Fold: 7, Validation Sharpe: 1.933358907699585\n",
      "Fold: 8, Validation Sharpe: 2.4637961387634277\n",
      "Fold: 9, Validation Sharpe: -0.13923993706703186\n"
     ]
    },
    {
     "name": "stderr",
     "output_type": "stream",
     "text": [
      "\u001b[32m[I 2022-02-27 00:44:57,048]\u001b[0m Trial 40 finished with value: 0.6759150415658951 and parameters: {'learning rate': 0.0006577797052076559, 'weight decay': 7.897951228805612e-06}. Best is trial 37 with value: 1.1522567991167307.\u001b[0m\n"
     ]
    },
    {
     "name": "stdout",
     "output_type": "stream",
     "text": [
      "Fold: 10, Validation Sharpe: 0.5341349244117737\n",
      "Fold: 1, Validation Sharpe: 3.0102882385253906\n",
      "Fold: 2, Validation Sharpe: 0.5568993091583252\n",
      "Fold: 3, Validation Sharpe: 2.168217897415161\n",
      "Fold: 4, Validation Sharpe: 2.6102683544158936\n",
      "Fold: 5, Validation Sharpe: -0.2740892767906189\n",
      "Fold: 6, Validation Sharpe: -0.9086410403251648\n",
      "Fold: 7, Validation Sharpe: 1.809552550315857\n",
      "Fold: 8, Validation Sharpe: 2.885852575302124\n",
      "Fold: 9, Validation Sharpe: -0.08359413594007492\n"
     ]
    },
    {
     "name": "stderr",
     "output_type": "stream",
     "text": [
      "\u001b[32m[I 2022-02-27 00:45:10,259]\u001b[0m Trial 41 finished with value: 1.0893257685005664 and parameters: {'learning rate': 0.004713077590693136, 'weight decay': 0.0001767996223671232}. Best is trial 37 with value: 1.1522567991167307.\u001b[0m\n"
     ]
    },
    {
     "name": "stdout",
     "output_type": "stream",
     "text": [
      "Fold: 10, Validation Sharpe: -0.881496787071228\n",
      "Fold: 1, Validation Sharpe: 1.7181769609451294\n",
      "Fold: 2, Validation Sharpe: 0.14192268252372742\n",
      "Fold: 3, Validation Sharpe: 1.8906848430633545\n",
      "Fold: 4, Validation Sharpe: 2.7136898040771484\n",
      "Fold: 5, Validation Sharpe: -0.2618493437767029\n",
      "Fold: 6, Validation Sharpe: -0.9810265898704529\n",
      "Fold: 7, Validation Sharpe: 1.9265040159225464\n",
      "Fold: 8, Validation Sharpe: 2.699467420578003\n",
      "Fold: 9, Validation Sharpe: -0.053609441965818405\n"
     ]
    },
    {
     "name": "stderr",
     "output_type": "stream",
     "text": [
      "\u001b[32m[I 2022-02-27 00:45:22,736]\u001b[0m Trial 42 finished with value: 0.9073839206248522 and parameters: {'learning rate': 0.0031291823483071304, 'weight decay': 0.00032460671399086786}. Best is trial 37 with value: 1.1522567991167307.\u001b[0m\n"
     ]
    },
    {
     "name": "stdout",
     "output_type": "stream",
     "text": [
      "Fold: 10, Validation Sharpe: -0.7201211452484131\n",
      "Fold: 1, Validation Sharpe: 1.0856590270996094\n",
      "Fold: 2, Validation Sharpe: 0.19594372808933258\n",
      "Fold: 3, Validation Sharpe: 1.4806033372879028\n",
      "Fold: 4, Validation Sharpe: 2.6407384872436523\n",
      "Fold: 5, Validation Sharpe: -0.23541276156902313\n",
      "Fold: 6, Validation Sharpe: -0.9714969396591187\n",
      "Fold: 7, Validation Sharpe: 1.9446550607681274\n",
      "Fold: 8, Validation Sharpe: 2.672883987426758\n",
      "Fold: 9, Validation Sharpe: 0.1539924442768097\n"
     ]
    },
    {
     "name": "stderr",
     "output_type": "stream",
     "text": [
      "\u001b[32m[I 2022-02-27 00:45:33,450]\u001b[0m Trial 43 finished with value: 0.9323640197515488 and parameters: {'learning rate': 0.0020524207389853435, 'weight decay': 5.5617724608788654e-05}. Best is trial 37 with value: 1.1522567991167307.\u001b[0m\n"
     ]
    },
    {
     "name": "stdout",
     "output_type": "stream",
     "text": [
      "Fold: 10, Validation Sharpe: 0.3560738265514374\n",
      "Fold: 1, Validation Sharpe: 1.9290995597839355\n",
      "Fold: 2, Validation Sharpe: 0.2591075301170349\n",
      "Fold: 3, Validation Sharpe: 1.9861034154891968\n",
      "Fold: 4, Validation Sharpe: 2.666123151779175\n",
      "Fold: 5, Validation Sharpe: -0.2590144872665405\n",
      "Fold: 6, Validation Sharpe: -0.9160776734352112\n",
      "Fold: 7, Validation Sharpe: 1.8755171298980713\n",
      "Fold: 8, Validation Sharpe: 2.638982057571411\n",
      "Fold: 9, Validation Sharpe: 0.019453279674053192\n"
     ]
    },
    {
     "name": "stderr",
     "output_type": "stream",
     "text": [
      "\u001b[32m[I 2022-02-27 00:45:42,984]\u001b[0m Trial 44 finished with value: 0.9732197485864162 and parameters: {'learning rate': 0.003448956789228022, 'weight decay': 0.00013630284794290232}. Best is trial 37 with value: 1.1522567991167307.\u001b[0m\n"
     ]
    },
    {
     "name": "stdout",
     "output_type": "stream",
     "text": [
      "Fold: 10, Validation Sharpe: -0.4670964777469635\n",
      "Fold: 1, Validation Sharpe: 3.0284454822540283\n",
      "Fold: 2, Validation Sharpe: 0.6269019842147827\n",
      "Fold: 3, Validation Sharpe: 2.175901174545288\n",
      "Fold: 4, Validation Sharpe: 2.551726818084717\n",
      "Fold: 5, Validation Sharpe: -0.28308045864105225\n",
      "Fold: 6, Validation Sharpe: -0.826282262802124\n",
      "Fold: 7, Validation Sharpe: 1.8310149908065796\n",
      "Fold: 8, Validation Sharpe: 2.8071560859680176\n",
      "Fold: 9, Validation Sharpe: -0.002467041602358222\n"
     ]
    },
    {
     "name": "stderr",
     "output_type": "stream",
     "text": [
      "\u001b[32m[I 2022-02-27 00:45:56,558]\u001b[0m Trial 45 finished with value: 1.132019710005261 and parameters: {'learning rate': 0.0046475898779037034, 'weight decay': 4.983060629223676e-06}. Best is trial 37 with value: 1.1522567991167307.\u001b[0m\n"
     ]
    },
    {
     "name": "stdout",
     "output_type": "stream",
     "text": [
      "Fold: 10, Validation Sharpe: -0.5891196727752686\n",
      "Fold: 1, Validation Sharpe: 1.002318263053894\n",
      "Fold: 2, Validation Sharpe: 0.35627055168151855\n",
      "Fold: 3, Validation Sharpe: 1.1577240228652954\n",
      "Fold: 4, Validation Sharpe: 2.5787553787231445\n",
      "Fold: 5, Validation Sharpe: -0.23931452631950378\n",
      "Fold: 6, Validation Sharpe: -0.9925257563591003\n",
      "Fold: 7, Validation Sharpe: 1.9519243240356445\n",
      "Fold: 8, Validation Sharpe: 2.6369590759277344\n",
      "Fold: 9, Validation Sharpe: 0.20914176106452942\n"
     ]
    },
    {
     "name": "stderr",
     "output_type": "stream",
     "text": [
      "\u001b[32m[I 2022-02-27 00:46:07,018]\u001b[0m Trial 46 finished with value: 0.9389946043491364 and parameters: {'learning rate': 0.0017735293691347285, 'weight decay': 3.8860210709707355e-06}. Best is trial 37 with value: 1.1522567991167307.\u001b[0m\n"
     ]
    },
    {
     "name": "stdout",
     "output_type": "stream",
     "text": [
      "Fold: 10, Validation Sharpe: 0.7286929488182068\n",
      "Fold: 1, Validation Sharpe: 3.1081411838531494\n",
      "Fold: 2, Validation Sharpe: 0.7889374494552612\n",
      "Fold: 3, Validation Sharpe: 2.2000045776367188\n",
      "Fold: 4, Validation Sharpe: 2.603105068206787\n",
      "Fold: 5, Validation Sharpe: -0.2043975293636322\n",
      "Fold: 6, Validation Sharpe: -0.8070705533027649\n",
      "Fold: 7, Validation Sharpe: 1.8950351476669312\n",
      "Fold: 8, Validation Sharpe: 2.782492160797119\n",
      "Fold: 9, Validation Sharpe: -0.043794263154268265\n"
     ]
    },
    {
     "name": "stderr",
     "output_type": "stream",
     "text": [
      "\u001b[32m[I 2022-02-27 00:46:18,728]\u001b[0m Trial 47 finished with value: 1.161547015234828 and parameters: {'learning rate': 0.004951925338011184, 'weight decay': 2.435597227121643e-06}. Best is trial 47 with value: 1.161547015234828.\u001b[0m\n"
     ]
    },
    {
     "name": "stdout",
     "output_type": "stream",
     "text": [
      "Fold: 10, Validation Sharpe: -0.7069830894470215\n",
      "Fold: 1, Validation Sharpe: 0.8988043665885925\n",
      "Fold: 2, Validation Sharpe: 0.5541495084762573\n",
      "Fold: 3, Validation Sharpe: 0.6196012496948242\n",
      "Fold: 4, Validation Sharpe: 2.3837509155273438\n",
      "Fold: 5, Validation Sharpe: -0.2537843883037567\n",
      "Fold: 6, Validation Sharpe: -1.0483922958374023\n",
      "Fold: 7, Validation Sharpe: 1.9272955656051636\n",
      "Fold: 8, Validation Sharpe: 2.580683946609497\n",
      "Fold: 9, Validation Sharpe: 0.010244106873869896\n"
     ]
    },
    {
     "name": "stderr",
     "output_type": "stream",
     "text": [
      "\u001b[32m[I 2022-02-27 00:46:29,415]\u001b[0m Trial 48 finished with value: 0.8403143828734756 and parameters: {'learning rate': 0.0013165883944994325, 'weight decay': 1.142304735097067e-05}. Best is trial 47 with value: 1.161547015234828.\u001b[0m\n"
     ]
    },
    {
     "name": "stdout",
     "output_type": "stream",
     "text": [
      "Fold: 10, Validation Sharpe: 0.7307908535003662\n",
      "Fold: 1, Validation Sharpe: 0.7383569478988647\n",
      "Fold: 2, Validation Sharpe: 0.7406556010246277\n",
      "Fold: 3, Validation Sharpe: -0.7550042271614075\n",
      "Fold: 4, Validation Sharpe: 0.7844703197479248\n",
      "Fold: 5, Validation Sharpe: 1.8826520442962646\n",
      "Fold: 6, Validation Sharpe: -0.0058286190032958984\n",
      "Fold: 7, Validation Sharpe: 1.1247082948684692\n",
      "Fold: 8, Validation Sharpe: 0.12514032423496246\n",
      "Fold: 9, Validation Sharpe: 0.17410889267921448\n"
     ]
    },
    {
     "name": "stderr",
     "output_type": "stream",
     "text": [
      "\u001b[32m[I 2022-02-27 00:46:39,800]\u001b[0m Trial 49 finished with value: 0.3551303789019585 and parameters: {'learning rate': 1.4881886084529372e-05, 'weight decay': 1.5670619123099693e-06}. Best is trial 47 with value: 1.161547015234828.\u001b[0m\n"
     ]
    },
    {
     "name": "stdout",
     "output_type": "stream",
     "text": [
      "Fold: 10, Validation Sharpe: -1.25795578956604\n"
     ]
    }
   ],
   "source": [
    "study = optuna.create_study(direction=\"maximize\")\n",
    "study.optimize(objective, n_trials=50)"
   ]
  },
  {
   "cell_type": "code",
   "execution_count": 91,
   "metadata": {},
   "outputs": [],
   "source": [
    "optuna_params = study.best_params"
   ]
  },
  {
   "cell_type": "code",
   "execution_count": 93,
   "metadata": {},
   "outputs": [
    {
     "name": "stdout",
     "output_type": "stream",
     "text": [
      "Fold: 1, Validation Sharpe: 3.142106056213379\n",
      "Fold: 2, Validation Sharpe: 0.7854117751121521\n",
      "Fold: 3, Validation Sharpe: 2.201643228530884\n",
      "Fold: 4, Validation Sharpe: 2.550945281982422\n",
      "Fold: 5, Validation Sharpe: -0.26443934440612793\n",
      "Fold: 6, Validation Sharpe: -0.8202694058418274\n",
      "Fold: 7, Validation Sharpe: 1.8603795766830444\n",
      "Fold: 8, Validation Sharpe: 2.7362654209136963\n",
      "Fold: 9, Validation Sharpe: -0.023963045328855515\n",
      "Fold: 10, Validation Sharpe: -0.43247249722480774\n"
     ]
    }
   ],
   "source": [
    "NUM_EPOCHS = 50\n",
    "\n",
    "# define dataset\n",
    "X = pf_feature.loc[:'2016-02-22'].values\n",
    "y = lret.loc['2007-01-19':'2016-02-23'].values\n",
    "assert X.shape[0] == y.shape[0], 'dataset not equal'\n",
    "\n",
    "# define a portfolio layer\n",
    "cv  = TimeSeriesSplit(n_splits=10,test_size=150)\n",
    "portfolio = PortfolioLayer(asset_num=8, error_adjusted=True)\n",
    "optimizer = optim.Adam(params=portfolio.parameters(), lr=optuna_params['learning rate'], weight_decay=optuna_params['weight decay'])\n",
    "\n",
    "val_losses = []\n",
    "for fold, (train_idx, val_idx) in enumerate(cv.split(X)):\n",
    "    X_tr, y_tr = torch.Tensor(X[train_idx]), torch.Tensor(y[train_idx])\n",
    "    X_vl, y_vl = torch.Tensor(X[val_idx]), torch.Tensor(y[val_idx])\n",
    "\n",
    "    dataset = InvDataset(X_tr,y_tr)\n",
    "    loader = DataLoader(dataset, batch_size=60, shuffle=False)\n",
    "    \n",
    "    for epoch in range(NUM_EPOCHS):\n",
    "        # training\n",
    "        for x_batch, y_batch in loader:    \n",
    "            optimizer.zero_grad()\n",
    "            weights = portfolio(x_batch)\n",
    "            loss = sharpe_ratio(weights, y_batch)\n",
    "            loss.backward()\n",
    "            optimizer.step()\n",
    "        \n",
    "        # at the end of the training, evaluate \n",
    "        if epoch + 1 == NUM_EPOCHS:\n",
    "            with torch.set_grad_enabled(False):\n",
    "                weights = portfolio(X_vl)\n",
    "                val_loss = -sharpe_ratio(weights, y_vl)\n",
    "                val_losses.append(val_loss.detach().item())\n",
    "                print(f'Fold: {fold+1}, Validation Sharpe: {val_loss.detach()}')\n"
   ]
  },
  {
   "cell_type": "code",
   "execution_count": 104,
   "metadata": {},
   "outputs": [],
   "source": [
    "params = {}\n",
    "params[\"network_parameters\"] = portfolio.state_dict()\n",
    "params[\"optuna_parameters\"]  = study.best_params"
   ]
  },
  {
   "cell_type": "code",
   "execution_count": 109,
   "metadata": {},
   "outputs": [],
   "source": [
    "torch.save(params, '/Users/mac/Desktop/PycharmProjects/TAADL/models/portfolio_params.json')"
   ]
  }
 ],
 "metadata": {
  "interpreter": {
   "hash": "0fcdd98ffdc43e19459281bdd6dd2d99dc416cd8bc0df76bf27c994662bebc1a"
  },
  "kernelspec": {
   "display_name": "Python 3.9.7 ('venv': venv)",
   "language": "python",
   "name": "python3"
  },
  "language_info": {
   "codemirror_mode": {
    "name": "ipython",
    "version": 3
   },
   "file_extension": ".py",
   "mimetype": "text/x-python",
   "name": "python",
   "nbconvert_exporter": "python",
   "pygments_lexer": "ipython3",
   "version": "3.9.7"
  },
  "orig_nbformat": 4
 },
 "nbformat": 4,
 "nbformat_minor": 2
}
